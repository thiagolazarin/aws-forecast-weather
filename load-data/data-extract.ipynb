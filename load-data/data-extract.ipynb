{
 "cells": [
  {
   "cell_type": "code",
   "execution_count": 2,
   "id": "e0251b21",
   "metadata": {},
   "outputs": [],
   "source": [
    "import json\n",
    "import boto3\n",
    "import requests\n",
    "from datetime import datetime, timezone\n",
    "import pandas as pd\n",
    "from io import StringIO\n"
   ]
  },
  {
   "cell_type": "code",
   "execution_count": 3,
   "id": "3bbc0696",
   "metadata": {},
   "outputs": [],
   "source": [
    "url = f\"https://historical-forecast-api.open-meteo.com/v1/forecast?latitude=-22.9056&longitude=-47.0608&start_date=2024-01-01&end_date=2024-12-31&hourly=temperature_2m,relative_humidity_2m,apparent_temperature,precipitation,rain,weather_code,cloud_cover,wind_direction_10m,wind_speed_10m,is_day&timezone=America%2FSao_Paulo\"\n",
    "# Requisição à API\n",
    "response = requests.get(url)\n",
    "data = response.json()"
   ]
  },
  {
   "cell_type": "code",
   "execution_count": 4,
   "id": "70034578",
   "metadata": {},
   "outputs": [],
   "source": [
    "# Converter para DataFrame\n",
    "df = pd.DataFrame(data['hourly'])\n",
    "df['time'] = pd.to_datetime(df['time'])"
   ]
  },
  {
   "cell_type": "code",
   "execution_count": 5,
   "id": "8b1f1f70",
   "metadata": {},
   "outputs": [
    {
     "data": {
      "text/html": [
       "<div>\n",
       "<style scoped>\n",
       "    .dataframe tbody tr th:only-of-type {\n",
       "        vertical-align: middle;\n",
       "    }\n",
       "\n",
       "    .dataframe tbody tr th {\n",
       "        vertical-align: top;\n",
       "    }\n",
       "\n",
       "    .dataframe thead th {\n",
       "        text-align: right;\n",
       "    }\n",
       "</style>\n",
       "<table border=\"1\" class=\"dataframe\">\n",
       "  <thead>\n",
       "    <tr style=\"text-align: right;\">\n",
       "      <th></th>\n",
       "      <th>time</th>\n",
       "      <th>temperature_2m</th>\n",
       "      <th>relative_humidity_2m</th>\n",
       "      <th>apparent_temperature</th>\n",
       "      <th>precipitation</th>\n",
       "      <th>rain</th>\n",
       "      <th>weather_code</th>\n",
       "      <th>cloud_cover</th>\n",
       "      <th>wind_direction_10m</th>\n",
       "      <th>wind_speed_10m</th>\n",
       "      <th>is_day</th>\n",
       "    </tr>\n",
       "  </thead>\n",
       "  <tbody>\n",
       "    <tr>\n",
       "      <th>0</th>\n",
       "      <td>2024-01-01 00:00:00</td>\n",
       "      <td>20.9</td>\n",
       "      <td>82</td>\n",
       "      <td>21.4</td>\n",
       "      <td>0.0</td>\n",
       "      <td>0.0</td>\n",
       "      <td>3</td>\n",
       "      <td>100</td>\n",
       "      <td>127</td>\n",
       "      <td>15.7</td>\n",
       "      <td>0</td>\n",
       "    </tr>\n",
       "    <tr>\n",
       "      <th>1</th>\n",
       "      <td>2024-01-01 01:00:00</td>\n",
       "      <td>20.7</td>\n",
       "      <td>83</td>\n",
       "      <td>21.5</td>\n",
       "      <td>0.0</td>\n",
       "      <td>0.0</td>\n",
       "      <td>3</td>\n",
       "      <td>100</td>\n",
       "      <td>129</td>\n",
       "      <td>13.8</td>\n",
       "      <td>0</td>\n",
       "    </tr>\n",
       "    <tr>\n",
       "      <th>2</th>\n",
       "      <td>2024-01-01 02:00:00</td>\n",
       "      <td>20.5</td>\n",
       "      <td>83</td>\n",
       "      <td>21.5</td>\n",
       "      <td>0.0</td>\n",
       "      <td>0.0</td>\n",
       "      <td>3</td>\n",
       "      <td>100</td>\n",
       "      <td>133</td>\n",
       "      <td>11.7</td>\n",
       "      <td>0</td>\n",
       "    </tr>\n",
       "    <tr>\n",
       "      <th>3</th>\n",
       "      <td>2024-01-01 03:00:00</td>\n",
       "      <td>20.4</td>\n",
       "      <td>84</td>\n",
       "      <td>21.7</td>\n",
       "      <td>0.0</td>\n",
       "      <td>0.0</td>\n",
       "      <td>3</td>\n",
       "      <td>100</td>\n",
       "      <td>135</td>\n",
       "      <td>10.2</td>\n",
       "      <td>0</td>\n",
       "    </tr>\n",
       "    <tr>\n",
       "      <th>4</th>\n",
       "      <td>2024-01-01 04:00:00</td>\n",
       "      <td>20.3</td>\n",
       "      <td>86</td>\n",
       "      <td>21.3</td>\n",
       "      <td>2.4</td>\n",
       "      <td>1.9</td>\n",
       "      <td>63</td>\n",
       "      <td>100</td>\n",
       "      <td>131</td>\n",
       "      <td>12.5</td>\n",
       "      <td>0</td>\n",
       "    </tr>\n",
       "  </tbody>\n",
       "</table>\n",
       "</div>"
      ],
      "text/plain": [
       "                 time  temperature_2m  relative_humidity_2m  \\\n",
       "0 2024-01-01 00:00:00            20.9                    82   \n",
       "1 2024-01-01 01:00:00            20.7                    83   \n",
       "2 2024-01-01 02:00:00            20.5                    83   \n",
       "3 2024-01-01 03:00:00            20.4                    84   \n",
       "4 2024-01-01 04:00:00            20.3                    86   \n",
       "\n",
       "   apparent_temperature  precipitation  rain  weather_code  cloud_cover  \\\n",
       "0                  21.4            0.0   0.0             3          100   \n",
       "1                  21.5            0.0   0.0             3          100   \n",
       "2                  21.5            0.0   0.0             3          100   \n",
       "3                  21.7            0.0   0.0             3          100   \n",
       "4                  21.3            2.4   1.9            63          100   \n",
       "\n",
       "   wind_direction_10m  wind_speed_10m  is_day  \n",
       "0                 127            15.7       0  \n",
       "1                 129            13.8       0  \n",
       "2                 133            11.7       0  \n",
       "3                 135            10.2       0  \n",
       "4                 131            12.5       0  "
      ]
     },
     "execution_count": 5,
     "metadata": {},
     "output_type": "execute_result"
    }
   ],
   "source": [
    "df.head()"
   ]
  },
  {
   "cell_type": "code",
   "execution_count": 6,
   "id": "a1d7396d",
   "metadata": {},
   "outputs": [],
   "source": [
    "# Salvar como CSV em memória\n",
    "csv_buffer = StringIO()\n",
    "df.to_csv(csv_buffer, index=False)"
   ]
  },
  {
   "cell_type": "code",
   "execution_count": 7,
   "id": "d470720a",
   "metadata": {},
   "outputs": [],
   "source": [
    "# Nome do arquivo com timestamp\n",
    "now = datetime.now(timezone.utc).strftime('%Y-%m-%d_%H-%M-%S')\n",
    "filename = f\"dados_historicos/20240101-20241231.csv\""
   ]
  },
  {
   "cell_type": "code",
   "execution_count": null,
   "id": "e705dcd2",
   "metadata": {},
   "outputs": [],
   "source": [
    "# Enviar para o S3\n",
    "try:\n",
    "    s3 = boto3.client('s3')\n",
    "    bucket_name = 'dados-clima'  \n",
    "    s3.put_object(Bucket=bucket_name, Key=filename, Body=csv_buffer.getvalue())\n",
    "    print('Dados carregados')\n",
    "except Exception as e:\n",
    "    print(f'Falha: {e}')"
   ]
  }
 ],
 "metadata": {
  "kernelspec": {
   "display_name": "base",
   "language": "python",
   "name": "python3"
  },
  "language_info": {
   "codemirror_mode": {
    "name": "ipython",
    "version": 3
   },
   "file_extension": ".py",
   "mimetype": "text/x-python",
   "name": "python",
   "nbconvert_exporter": "python",
   "pygments_lexer": "ipython3",
   "version": "3.12.7"
  }
 },
 "nbformat": 4,
 "nbformat_minor": 5
}
